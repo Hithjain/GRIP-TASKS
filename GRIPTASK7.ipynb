{
  "nbformat": 4,
  "nbformat_minor": 0,
  "metadata": {
    "kernelspec": {
      "display_name": "Python 3",
      "language": "python",
      "name": "python3"
    },
    "language_info": {
      "codemirror_mode": {
        "name": "ipython",
        "version": 3
      },
      "file_extension": ".py",
      "mimetype": "text/x-python",
      "name": "python",
      "nbconvert_exporter": "python",
      "pygments_lexer": "ipython3",
      "version": "3.8.1"
    },
    "colab": {
      "name": "DataScience _Task_4 .ipynb",
      "provenance": [],
      "collapsed_sections": [
        "QbtGSXasv76q",
        "_jCUGbHnDqEO",
        "Sj11Eym1E50N"
      ]
    }
  },
  "cells": [
    {
      "cell_type": "markdown",
      "metadata": {
        "id": "ASsNU0gxv76o"
      },
      "source": [
        "# **Task 7: Stock Market Prediction using Numerical and Textual Analysis**\n",
        "# **Author: Hith Jain**"
      ]
    },
    {
      "cell_type": "markdown",
      "metadata": {
        "id": "r-Pf2wUIT1Bf"
      },
      "source": [
        "**First we predict the stock price using Historical Data, I have selected Apple Company as an example**"
      ]
    },
    {
      "cell_type": "code",
      "metadata": {
        "id": "uRXZvzBIT5qd",
        "outputId": "11271b26-9039-49ba-f0d5-1fb8d5b1e497",
        "colab": {
          "resources": {
            "http://localhost:8080/nbextensions/google.colab/files.js": {
              "data": "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",
              "ok": true,
              "headers": [
                [
                  "content-type",
                  "application/javascript"
                ]
              ],
              "status": 200,
              "status_text": ""
            }
          },
          "base_uri": "https://localhost:8080/",
          "height": 73
        }
      },
      "source": [
        "from google.colab import files\n",
        "uploaded = files.upload()"
      ],
      "execution_count": 14,
      "outputs": [
        {
          "output_type": "display_data",
          "data": {
            "text/html": [
              "\n",
              "     <input type=\"file\" id=\"files-66099837-e636-474c-8bb1-d145cc2e20f9\" name=\"files[]\" multiple disabled\n",
              "        style=\"border:none\" />\n",
              "     <output id=\"result-66099837-e636-474c-8bb1-d145cc2e20f9\">\n",
              "      Upload widget is only available when the cell has been executed in the\n",
              "      current browser session. Please rerun this cell to enable.\n",
              "      </output>\n",
              "      <script src=\"/nbextensions/google.colab/files.js\"></script> "
            ],
            "text/plain": [
              "<IPython.core.display.HTML object>"
            ]
          },
          "metadata": {
            "tags": []
          }
        },
        {
          "output_type": "stream",
          "text": [
            "Saving AAPL.csv to AAPL (1).csv\n"
          ],
          "name": "stdout"
        }
      ]
    },
    {
      "cell_type": "code",
      "metadata": {
        "id": "5R9MA30gUNV2",
        "outputId": "b864bcf3-cc23-4acb-ec75-ec57c216c4b3",
        "colab": {
          "base_uri": "https://localhost:8080/"
        }
      },
      "source": [
        "import pandas as pd\n",
        "import io\n",
        "df = pd.read_csv(io.BytesIO(uploaded['AAPL.csv']))\n",
        "# Dataset is now stored in a Pandas Dataframe\n",
        "\n",
        "\n",
        "\n",
        "frame1 = [x for x in df.Open]\n",
        "frame2 = [x for x in df.Close]\n",
        "frame3 = [x for x in df.Date]\n",
        "frame4 = [x for x in df.High]\n",
        "frame5 = [x for x in df.Low]\n",
        "df = pd.DataFrame({\n",
        "    \"Open\":frame1,\n",
        "    \"Close\":frame2,\n",
        "    \"Date\":frame3,\n",
        "    \"High\":frame4,\n",
        "    \"Low\":frame5\n",
        "})\n",
        "\n",
        "print(len(df))"
      ],
      "execution_count": 15,
      "outputs": [
        {
          "output_type": "stream",
          "text": [
            "253\n"
          ],
          "name": "stdout"
        }
      ]
    },
    {
      "cell_type": "code",
      "metadata": {
        "id": "fEp0dMf4UTok",
        "outputId": "57255497-e459-4ce5-cfdf-01fa25db83ca",
        "colab": {
          "base_uri": "https://localhost:8080/"
        }
      },
      "source": [
        "import numpy as np\n",
        "import pandas as pd\n",
        "import math\n",
        "import sklearn\n",
        "import sklearn.preprocessing\n",
        "import datetime\n",
        "import os\n",
        "import matplotlib.pyplot as plt\n",
        "!pip install tensorflow==1.14\n",
        "import tensorflow as tf\n",
        "\n",
        "# split data in 80%/10%/10% train/validation/test sets\n",
        "valid_set_size_percentage = 10 \n",
        "test_set_size_percentage = 10"
      ],
      "execution_count": 16,
      "outputs": [
        {
          "output_type": "stream",
          "text": [
            "Requirement already satisfied: tensorflow==1.14 in /usr/local/lib/python3.6/dist-packages (1.14.0)\n",
            "Requirement already satisfied: keras-preprocessing>=1.0.5 in /usr/local/lib/python3.6/dist-packages (from tensorflow==1.14) (1.1.2)\n",
            "Requirement already satisfied: termcolor>=1.1.0 in /usr/local/lib/python3.6/dist-packages (from tensorflow==1.14) (1.1.0)\n",
            "Requirement already satisfied: astor>=0.6.0 in /usr/local/lib/python3.6/dist-packages (from tensorflow==1.14) (0.8.1)\n",
            "Requirement already satisfied: wrapt>=1.11.1 in /usr/local/lib/python3.6/dist-packages (from tensorflow==1.14) (1.12.1)\n",
            "Requirement already satisfied: keras-applications>=1.0.6 in /usr/local/lib/python3.6/dist-packages (from tensorflow==1.14) (1.0.8)\n",
            "Requirement already satisfied: google-pasta>=0.1.6 in /usr/local/lib/python3.6/dist-packages (from tensorflow==1.14) (0.2.0)\n",
            "Requirement already satisfied: six>=1.10.0 in /usr/local/lib/python3.6/dist-packages (from tensorflow==1.14) (1.15.0)\n",
            "Requirement already satisfied: wheel>=0.26 in /usr/local/lib/python3.6/dist-packages (from tensorflow==1.14) (0.35.1)\n",
            "Requirement already satisfied: grpcio>=1.8.6 in /usr/local/lib/python3.6/dist-packages (from tensorflow==1.14) (1.33.2)\n",
            "Requirement already satisfied: absl-py>=0.7.0 in /usr/local/lib/python3.6/dist-packages (from tensorflow==1.14) (0.10.0)\n",
            "Requirement already satisfied: protobuf>=3.6.1 in /usr/local/lib/python3.6/dist-packages (from tensorflow==1.14) (3.12.4)\n",
            "Requirement already satisfied: gast>=0.2.0 in /usr/local/lib/python3.6/dist-packages (from tensorflow==1.14) (0.3.3)\n",
            "Requirement already satisfied: tensorboard<1.15.0,>=1.14.0 in /usr/local/lib/python3.6/dist-packages (from tensorflow==1.14) (1.14.0)\n",
            "Requirement already satisfied: tensorflow-estimator<1.15.0rc0,>=1.14.0rc0 in /usr/local/lib/python3.6/dist-packages (from tensorflow==1.14) (1.14.0)\n",
            "Requirement already satisfied: numpy<2.0,>=1.14.5 in /usr/local/lib/python3.6/dist-packages (from tensorflow==1.14) (1.18.5)\n",
            "Requirement already satisfied: h5py in /usr/local/lib/python3.6/dist-packages (from keras-applications>=1.0.6->tensorflow==1.14) (2.10.0)\n",
            "Requirement already satisfied: setuptools in /usr/local/lib/python3.6/dist-packages (from protobuf>=3.6.1->tensorflow==1.14) (50.3.2)\n",
            "Requirement already satisfied: markdown>=2.6.8 in /usr/local/lib/python3.6/dist-packages (from tensorboard<1.15.0,>=1.14.0->tensorflow==1.14) (3.3.3)\n",
            "Requirement already satisfied: werkzeug>=0.11.15 in /usr/local/lib/python3.6/dist-packages (from tensorboard<1.15.0,>=1.14.0->tensorflow==1.14) (1.0.1)\n",
            "Requirement already satisfied: importlib-metadata; python_version < \"3.8\" in /usr/local/lib/python3.6/dist-packages (from markdown>=2.6.8->tensorboard<1.15.0,>=1.14.0->tensorflow==1.14) (2.0.0)\n",
            "Requirement already satisfied: zipp>=0.5 in /usr/local/lib/python3.6/dist-packages (from importlib-metadata; python_version < \"3.8\"->markdown>=2.6.8->tensorboard<1.15.0,>=1.14.0->tensorflow==1.14) (3.4.0)\n"
          ],
          "name": "stdout"
        }
      ]
    },
    {
      "cell_type": "code",
      "metadata": {
        "id": "zWyV-pEkUbVr",
        "outputId": "417c4b62-0aad-4310-9214-17d3f8ae106d",
        "colab": {
          "base_uri": "https://localhost:8080/"
        }
      },
      "source": [
        "# import all stock prices \n",
        "\n",
        "print (df.describe)\n",
        "\n",
        "## number of different stocks\n",
        "# print('\\nnumber of different stocks: ', len(list(set(df.symbol))))\n",
        "# print(list(set(df.symbol))[:10])\n",
        "\n",
        "# df.tail()\n",
        "# df.describe()"
      ],
      "execution_count": 17,
      "outputs": [
        {
          "output_type": "stream",
          "text": [
            "<bound method NDFrame.describe of            Open       Close      Date        High         Low\n",
            "0     65.922501   65.502502  21-11-19   66.002502   65.294998\n",
            "1     65.647499   65.445000  22-11-19   65.794998   65.209999\n",
            "2     65.677498   66.592499  25-11-19   66.610001   65.629997\n",
            "3     66.735001   66.072502  26-11-19   66.790001   65.625000\n",
            "4     66.394997   66.959999  27-11-19   66.995003   66.327499\n",
            "..          ...         ...       ...         ...         ...\n",
            "248  118.919998  120.300003  16-11-20  120.989998  118.150002\n",
            "249  119.550003  119.389999  17-11-20  120.669998  118.959999\n",
            "250  118.610001  118.029999  18-11-20  119.820000  118.000000\n",
            "251  117.589996  118.639999  19-11-20  119.059998  116.809998\n",
            "252  118.639999  117.339996  20-11-20  118.769997  117.290001\n",
            "\n",
            "[253 rows x 5 columns]>\n"
          ],
          "name": "stdout"
        }
      ]
    },
    {
      "cell_type": "code",
      "metadata": {
        "id": "x7evm05yUgT2",
        "outputId": "595647e1-ebf3-4283-853c-41b33b2dc376",
        "colab": {
          "base_uri": "https://localhost:8080/",
          "height": 367
        }
      },
      "source": [
        "plt.figure(figsize=(15, 5));\n",
        "plt.subplot(1,2,1);\n",
        "plt.plot(df.Open.values, color='red', label='open')\n",
        "plt.plot(df.Close.values, color='green', label='close')\n",
        "# plt.plot(df.Low.values, color='blue', label='low')\n",
        "# plt.plot(df.High.values, color='black', label='high')\n",
        "plt.title('stock price')\n",
        "plt.xlabel('time [minutes]')\n",
        "plt.ylabel('price')\n",
        "plt.legend(loc='best')\n",
        "#plt.show()"
      ],
      "execution_count": 18,
      "outputs": [
        {
          "output_type": "execute_result",
          "data": {
            "text/plain": [
              "<matplotlib.legend.Legend at 0x7f740e71cbe0>"
            ]
          },
          "metadata": {
            "tags": []
          },
          "execution_count": 18
        },
        {
          "output_type": "display_data",
          "data": {
            "image/png": "[encoded data removed]",
            "text/plain": [
              "<Figure size 1080x360 with 1 Axes>"
            ]
          },
          "metadata": {
            "tags": [],
            "needs_background": "light"
          }
        }
      ]
    },
    {
      "cell_type": "code",
      "metadata": {
        "id": "eZ0ySoXIUogS",
        "outputId": "f83eb747-c79a-4beb-ede3-839f6103eb01",
        "colab": {
          "base_uri": "https://localhost:8080/"
        }
      },
      "source": [
        "# function for min-max normalization of stock\n",
        "def normalize_data(df):\n",
        "    min_max_scaler = sklearn.preprocessing.MinMaxScaler()\n",
        "    df['Open'] = min_max_scaler.fit_transform(df.Open.values.reshape(-1,1))\n",
        "    df['Close'] = min_max_scaler.fit_transform(df['Close'].values.reshape(-1,1))\n",
        "    df['High'] = min_max_scaler.fit_transform(df.High.values.reshape(-1,1))\n",
        "    df['Low'] = min_max_scaler.fit_transform(df['Low'].values.reshape(-1,1))\n",
        "    return df\n",
        "\n",
        "# function to create train, validation, test data given stock data and sequence length\n",
        "def load_data(stock, seq_len):\n",
        "    data_raw = stock.to_numpy() # convert to numpy array\n",
        "    data = []\n",
        "    \n",
        "    # create all possible sequences of length seq_len\n",
        "    for index in range(len(data_raw) - seq_len): \n",
        "        data.append(data_raw[index: index + seq_len])\n",
        "    \n",
        "    data = np.array(data);\n",
        "    valid_set_size = int(np.round(valid_set_size_percentage/100*data.shape[0]));  \n",
        "    test_set_size = int(np.round(test_set_size_percentage/100*data.shape[0]))\n",
        "    train_set_size = data.shape[0] - (valid_set_size + test_set_size)\n",
        "    print (valid_set_size,test_set_size)\n",
        "    print (data.shape[0])\n",
        "    \n",
        "    x_train = data[:train_set_size,:-1,:]\n",
        "    y_train = data[:train_set_size,-1,:]\n",
        "    \n",
        "    x_valid = data[train_set_size:train_set_size+valid_set_size,:-1,:]\n",
        "    y_valid = data[train_set_size:train_set_size+valid_set_size,-1,:]\n",
        "    \n",
        "    x_test = data[train_set_size+valid_set_size:,:-1,:]\n",
        "    y_test = data[train_set_size+valid_set_size:,-1,:]\n",
        "    return [x_train, y_train, x_valid, y_valid, x_test, y_test]\n",
        "# choose one stock\n",
        "df_stock = df.copy()\n",
        "df_stock.drop(['Date'],1,inplace=True)\n",
        "\n",
        "cols = list(df_stock.columns.values)\n",
        "print('df_stock.columns.values = ', cols)\n",
        "\n",
        "# normalize stock\n",
        "df_stock_norm = df_stock.copy()\n",
        "df_stock_norm = normalize_data(df_stock_norm)\n",
        "\n",
        "# create train, test data\n",
        "seq_len = 20 # choose sequence length\n",
        "x_train, y_train, x_valid, y_valid, x_test, y_test = load_data(df_stock_norm, seq_len)\n",
        "print('x_train.shape = ',x_train.shape)\n",
        "print('y_train.shape = ', y_train.shape)\n",
        "print('x_valid.shape = ',x_valid.shape)\n",
        "print('y_valid.shape = ', y_valid.shape)\n",
        "print('x_test.shape = ', x_test.shape)\n",
        "print('y_test.shape = ',y_test.shape)\n",
        "\n",
        "print(len(x_train),len(y_train))\n",
        "print(len(x_test),len(y_test))\n",
        "print(len(x_valid),len(y_valid))"
      ],
      "execution_count": 19,
      "outputs": [
        {
          "output_type": "stream",
          "text": [
            "df_stock.columns.values =  ['Open', 'Close', 'High', 'Low']\n",
            "23 23\n",
            "233\n",
            "x_train.shape =  (187, 19, 4)\n",
            "y_train.shape =  (187, 4)\n",
            "x_valid.shape =  (23, 19, 4)\n",
            "y_valid.shape =  (23, 4)\n",
            "x_test.shape =  (23, 19, 4)\n",
            "y_test.shape =  (23, 4)\n",
            "187 187\n",
            "23 23\n",
            "23 23\n"
          ],
          "name": "stdout"
        }
      ]
    },
    {
      "cell_type": "code",
      "metadata": {
        "id": "KRAEGQ5HUvzb",
        "outputId": "3e6c2c61-8f1a-4454-ad0c-43adb8f9ac7c",
        "colab": {
          "base_uri": "https://localhost:8080/",
          "height": 350
        }
      },
      "source": [
        "plt.figure(figsize=(15, 5));\n",
        "plt.plot(df_stock_norm.Open.values, color='red', label='open')\n",
        "plt.plot(df_stock_norm.Close.values, color='green', label='Close')\n",
        "# plt.plot(df_stock_norm.Low.values, color='blue', label='low')\n",
        "# plt.plot(df_stock_norm.High.values, color='black', label='high')\n",
        "#plt.plot(df_stock_norm.volume.values, color='gray', label='volume')\n",
        "plt.title('stock')\n",
        "plt.xlabel('time [Days]')\n",
        "plt.ylabel('normalized price')\n",
        "plt.legend(loc='best')\n",
        "plt.show()"
      ],
      "execution_count": 20,
      "outputs": [
        {
          "output_type": "display_data",
          "data": {
            "image/png": "[encoded data removed]",
            "text/plain": [
              "<Figure size 1080x360 with 1 Axes>"
            ]
          },
          "metadata": {
            "tags": [],
            "needs_background": "light"
          }
        }
      ]
    },
    {
      "cell_type": "code",
      "metadata": {
        "id": "2RMwHugaU1PQ",
        "outputId": "b600ccce-4eb4-4c7a-a746-5090cd7fb1a2",
        "colab": {
          "base_uri": "https://localhost:8080/"
        }
      },
      "source": [
        "## Basic Cell RNN in tensorflow\n",
        "\n",
        "index_in_epoch = 0;\n",
        "perm_array  = np.arange(x_train.shape[0])\n",
        "np.random.shuffle(perm_array)\n",
        "\n",
        "# function to get the next batch\n",
        "def get_next_batch(batch_size):\n",
        "    global index_in_epoch, x_train, perm_array   \n",
        "    start = index_in_epoch\n",
        "    index_in_epoch += batch_size\n",
        "    \n",
        "    if index_in_epoch > x_train.shape[0]:\n",
        "        np.random.shuffle(perm_array) # shuffle permutation array\n",
        "        start = 0 # start next epoch\n",
        "        index_in_epoch = batch_size\n",
        "        \n",
        "    end = index_in_epoch\n",
        "    return x_train[perm_array[start:end]], y_train[perm_array[start:end]]\n",
        "\n",
        "# parameters\n",
        "n_steps = seq_len-1 \n",
        "n_inputs = 4\n",
        "n_neurons = 200 \n",
        "n_outputs = 4\n",
        "n_layers = 2\n",
        "learning_rate = 0.001\n",
        "batch_size = 10\n",
        "n_epochs = 100 \n",
        "train_set_size = x_train.shape[0]\n",
        "test_set_size = x_test.shape[0]\n",
        "tf.reset_default_graph()\n",
        "\n",
        "X = tf.placeholder(tf.float32, [None, n_steps, n_inputs])\n",
        "y = tf.placeholder(tf.float32, [None, n_outputs])\n",
        "\n",
        "# # use Basic RNN Cell\n",
        "# layers = [tf.contrib.rnn.BasicRNNCell(num_units=n_neurons, activation=tf.nn.elu)\n",
        "#           for layer in range(n_layers)]\n",
        "# use Basic LSTM Cell \n",
        "#layers = [tf.contrib.rnn.BasicLSTMCell(num_units=n_neurons, activation=tf.nn.elu)\n",
        "#          for layer in range(n_layers)]\n",
        "\n",
        "#use LSTM Cell with peephole connections\n",
        "layers = [tf.contrib.rnn.LSTMCell(num_units=n_neurons, \n",
        "                                 activation=tf.nn.leaky_relu, use_peepholes = True)\n",
        "         for layer in range(n_layers)]\n",
        "\n",
        "# use GRU cell\n",
        "#layers = [tf.contrib.rnn.GRUCell(num_units=n_neurons, activation=tf.nn.leaky_relu)\n",
        "#          for layer in range(n_layers)]\n",
        "                                                                     \n",
        "multi_layer_cell = tf.contrib.rnn.MultiRNNCell(layers)\n",
        "rnn_outputs, states = tf.nn.dynamic_rnn(multi_layer_cell, X, dtype=tf.float32)\n",
        "\n",
        "stacked_rnn_outputs = tf.reshape(rnn_outputs, [-1, n_neurons]) \n",
        "stacked_outputs = tf.layers.dense(stacked_rnn_outputs, n_outputs)\n",
        "outputs = tf.reshape(stacked_outputs, [-1, n_steps, n_outputs])\n",
        "outputs = outputs[:,n_steps-1,:] # keep only last output of sequence\n",
        "                                              \n",
        "loss = tf.reduce_mean(tf.square(outputs - y)) # loss function = mean squared error \n",
        "optimizer = tf.train.AdamOptimizer(learning_rate=learning_rate) \n",
        "training_op = optimizer.minimize(loss)\n",
        "                                              \n",
        "# run graph\n",
        "with tf.Session() as sess: \n",
        "    sess.run(tf.global_variables_initializer())\n",
        "    print (int(n_epochs*train_set_size/batch_size))\n",
        "    for iteration in range(int(n_epochs*train_set_size/batch_size)):\n",
        "        x_batch, y_batch = get_next_batch(batch_size) # fetch the next training batch \n",
        "        sess.run(training_op, feed_dict={X: x_batch, y: y_batch}) \n",
        "        if iteration % int(5*train_set_size/batch_size) == 0:\n",
        "            mse_train = loss.eval(feed_dict={X: x_train, y: y_train}) \n",
        "            mse_valid = loss.eval(feed_dict={X: x_valid, y: y_valid}) \n",
        "            print('%.2f epochs: MSE train/valid = %.6f/%.6f'%(\n",
        "                iteration*batch_size/train_set_size, mse_train, mse_valid))\n",
        "\n",
        "    y_train_pred = sess.run(outputs, feed_dict={X: x_train})\n",
        "    y_valid_pred = sess.run(outputs, feed_dict={X: x_valid})\n",
        "    y_test_pred = sess.run(outputs, feed_dict={X: x_test})"
      ],
      "execution_count": 21,
      "outputs": [
        {
          "output_type": "stream",
          "text": [
            "WARNING:tensorflow:Entity <bound method MultiRNNCell.call of <tensorflow.python.ops.rnn_cell_impl.MultiRNNCell object at 0x7f740d572208>> could not be transformed and will be executed as-is. Please report this to the AutgoGraph team. When filing the bug, set the verbosity to 10 (on Linux, `export AUTOGRAPH_VERBOSITY=10`) and attach the full output. Cause: converting <bound method MultiRNNCell.call of <tensorflow.python.ops.rnn_cell_impl.MultiRNNCell object at 0x7f740d572208>>: AttributeError: module 'gast' has no attribute 'Num'\n",
            "WARNING: Entity <bound method MultiRNNCell.call of <tensorflow.python.ops.rnn_cell_impl.MultiRNNCell object at 0x7f740d572208>> could not be transformed and will be executed as-is. Please report this to the AutgoGraph team. When filing the bug, set the verbosity to 10 (on Linux, `export AUTOGRAPH_VERBOSITY=10`) and attach the full output. Cause: converting <bound method MultiRNNCell.call of <tensorflow.python.ops.rnn_cell_impl.MultiRNNCell object at 0x7f740d572208>>: AttributeError: module 'gast' has no attribute 'Num'\n",
            "WARNING:tensorflow:Entity <bound method LSTMCell.call of <tensorflow.python.ops.rnn_cell_impl.LSTMCell object at 0x7f740d572438>> could not be transformed and will be executed as-is. Please report this to the AutgoGraph team. When filing the bug, set the verbosity to 10 (on Linux, `export AUTOGRAPH_VERBOSITY=10`) and attach the full output. Cause: converting <bound method LSTMCell.call of <tensorflow.python.ops.rnn_cell_impl.LSTMCell object at 0x7f740d572438>>: AttributeError: module 'gast' has no attribute 'Num'\n",
            "WARNING: Entity <bound method LSTMCell.call of <tensorflow.python.ops.rnn_cell_impl.LSTMCell object at 0x7f740d572438>> could not be transformed and will be executed as-is. Please report this to the AutgoGraph team. When filing the bug, set the verbosity to 10 (on Linux, `export AUTOGRAPH_VERBOSITY=10`) and attach the full output. Cause: converting <bound method LSTMCell.call of <tensorflow.python.ops.rnn_cell_impl.LSTMCell object at 0x7f740d572438>>: AttributeError: module 'gast' has no attribute 'Num'\n",
            "WARNING:tensorflow:Entity <bound method LSTMCell.call of <tensorflow.python.ops.rnn_cell_impl.LSTMCell object at 0x7f740d5724a8>> could not be transformed and will be executed as-is. Please report this to the AutgoGraph team. When filing the bug, set the verbosity to 10 (on Linux, `export AUTOGRAPH_VERBOSITY=10`) and attach the full output. Cause: converting <bound method LSTMCell.call of <tensorflow.python.ops.rnn_cell_impl.LSTMCell object at 0x7f740d5724a8>>: AttributeError: module 'gast' has no attribute 'Num'\n",
            "WARNING: Entity <bound method LSTMCell.call of <tensorflow.python.ops.rnn_cell_impl.LSTMCell object at 0x7f740d5724a8>> could not be transformed and will be executed as-is. Please report this to the AutgoGraph team. When filing the bug, set the verbosity to 10 (on Linux, `export AUTOGRAPH_VERBOSITY=10`) and attach the full output. Cause: converting <bound method LSTMCell.call of <tensorflow.python.ops.rnn_cell_impl.LSTMCell object at 0x7f740d5724a8>>: AttributeError: module 'gast' has no attribute 'Num'\n",
            "WARNING:tensorflow:Entity <bound method Dense.call of <tensorflow.python.layers.core.Dense object at 0x7f740d572358>> could not be transformed and will be executed as-is. Please report this to the AutgoGraph team. When filing the bug, set the verbosity to 10 (on Linux, `export AUTOGRAPH_VERBOSITY=10`) and attach the full output. Cause: converting <bound method Dense.call of <tensorflow.python.layers.core.Dense object at 0x7f740d572358>>: AssertionError: Bad argument number for Name: 3, expecting 4\n",
            "WARNING: Entity <bound method Dense.call of <tensorflow.python.layers.core.Dense object at 0x7f740d572358>> could not be transformed and will be executed as-is. Please report this to the AutgoGraph team. When filing the bug, set the verbosity to 10 (on Linux, `export AUTOGRAPH_VERBOSITY=10`) and attach the full output. Cause: converting <bound method Dense.call of <tensorflow.python.layers.core.Dense object at 0x7f740d572358>>: AssertionError: Bad argument number for Name: 3, expecting 4\n",
            "1870\n",
            "0.00 epochs: MSE train/valid = 0.161669/0.482878\n",
            "4.97 epochs: MSE train/valid = 0.004982/0.014845\n",
            "9.95 epochs: MSE train/valid = 0.002038/0.001980\n",
            "14.92 epochs: MSE train/valid = 0.001701/0.001874\n",
            "19.89 epochs: MSE train/valid = 0.002755/0.006574\n",
            "24.87 epochs: MSE train/valid = 0.001186/0.002065\n",
            "29.84 epochs: MSE train/valid = 0.001121/0.001884\n",
            "34.81 epochs: MSE train/valid = 0.001021/0.001494\n",
            "39.79 epochs: MSE train/valid = 0.000932/0.002870\n",
            "44.76 epochs: MSE train/valid = 0.000914/0.002389\n",
            "49.73 epochs: MSE train/valid = 0.000740/0.001417\n",
            "54.71 epochs: MSE train/valid = 0.000905/0.001526\n",
            "59.68 epochs: MSE train/valid = 0.000869/0.002295\n",
            "64.65 epochs: MSE train/valid = 0.000688/0.001462\n",
            "69.63 epochs: MSE train/valid = 0.000746/0.002043\n",
            "74.60 epochs: MSE train/valid = 0.000809/0.001969\n",
            "79.57 epochs: MSE train/valid = 0.000874/0.001526\n",
            "84.55 epochs: MSE train/valid = 0.000659/0.001947\n",
            "89.52 epochs: MSE train/valid = 0.000966/0.003140\n",
            "94.49 epochs: MSE train/valid = 0.001332/0.005107\n",
            "99.47 epochs: MSE train/valid = 0.001842/0.004787\n"
          ],
          "name": "stdout"
        }
      ]
    },
    {
      "cell_type": "code",
      "metadata": {
        "id": "n4sAgxtpVUQh",
        "outputId": "01c1a5eb-2262-4e50-d7fd-740686b52155",
        "colab": {
          "base_uri": "https://localhost:8080/"
        }
      },
      "source": [
        "y_train.shape"
      ],
      "execution_count": 22,
      "outputs": [
        {
          "output_type": "execute_result",
          "data": {
            "text/plain": [
              "(187, 4)"
            ]
          },
          "metadata": {
            "tags": []
          },
          "execution_count": 22
        }
      ]
    },
    {
      "cell_type": "code",
      "metadata": {
        "id": "SWtvA3JaVan2",
        "outputId": "3316ad18-677c-4ec9-923c-3467f04d47a6",
        "colab": {
          "base_uri": "https://localhost:8080/",
          "height": 367
        }
      },
      "source": [
        "ft = 0 \n",
        "# 0 = open, 1 = close, 2 = highest, 3 = lowest\n",
        "## show predictions\n",
        "plt.figure(figsize=(15, 5));\n",
        "plt.subplot(1,2,1);\n",
        "\n",
        "plt.plot(np.arange(y_train.shape[0]), y_train[:,ft], color='blue', label='train target')\n",
        "\n",
        "plt.plot(np.arange(y_train.shape[0], y_train.shape[0]+y_valid.shape[0]), y_valid[:,ft],\n",
        "         color='gray', label='valid target')\n",
        "\n",
        "plt.plot(np.arange(y_train.shape[0]+y_valid.shape[0],\n",
        "                   y_train.shape[0]+y_test.shape[0]+y_test.shape[0]),\n",
        "         y_test[:,ft], color='black', label='test target')\n",
        "\n",
        "plt.plot(np.arange(y_train_pred.shape[0]),y_train_pred[:,ft], color='red',\n",
        "         label='train prediction')\n",
        "\n",
        "plt.plot(np.arange(y_train_pred.shape[0], y_train_pred.shape[0]+y_valid_pred.shape[0]),\n",
        "         y_valid_pred[:,ft], color='orange', label='valid prediction')\n",
        "\n",
        "plt.plot(np.arange(y_train_pred.shape[0]+y_valid_pred.shape[0],\n",
        "                   y_train_pred.shape[0]+y_valid_pred.shape[0]+y_test_pred.shape[0]),\n",
        "         y_test_pred[:,ft], color='green', label='test prediction')\n",
        "\n",
        "plt.title('past and future stock prices')\n",
        "plt.xlabel('time [day]') \n",
        "plt.ylabel('normalized price')\n",
        "plt.legend(loc='best');\n",
        "\n",
        "plt.subplot(1,2,2);\n",
        "\n",
        "plt.plot(np.arange(y_train.shape[0], y_train.shape[0]+y_test.shape[0]),\n",
        "         y_test[:,ft], color='black', label='test target')\n",
        "\n",
        "plt.plot(np.arange(y_train_pred.shape[0], y_train_pred.shape[0]+y_test_pred.shape[0]),\n",
        "         y_test_pred[:,ft], color='green', label='test prediction')\n",
        "plt.title('future stock prices')\n",
        "plt.xlabel('time [day]')\n",
        "plt.ylabel('normalized price')\n",
        "plt.legend(loc='best');\n",
        "\n",
        "corr_price_development_train = np.sum(np.equal(np.sign(y_train[:,1]-y_train[:,0]),\n",
        "            np.sign(y_train_pred[:,1]-y_train_pred[:,0])).astype(int)) / y_train.shape[0]\n",
        "corr_price_development_valid = np.sum(np.equal(np.sign(y_valid[:,1]-y_valid[:,0]),\n",
        "            np.sign(y_valid_pred[:,1]-y_valid_pred[:,0])).astype(int)) / y_valid.shape[0]\n",
        "corr_price_development_test = np.sum(np.equal(np.sign(y_test[:,1]-y_test[:,0]),\n",
        "            np.sign(y_test_pred[:,1]-y_test_pred[:,0])).astype(int)) / y_test.shape[0]\n",
        "\n",
        "print('correct sign prediction for close - open price for train/valid/test: %.2f/%.2f/%.2f'%(\n",
        "    corr_price_development_train, corr_price_development_valid, corr_price_development_test))"
      ],
      "execution_count": 23,
      "outputs": [
        {
          "output_type": "stream",
          "text": [
            "correct sign prediction for close - open price for train/valid/test: 0.89/0.83/0.91\n"
          ],
          "name": "stdout"
        },
        {
          "output_type": "display_data",
          "data": {
            "image/png": "[encoded data removed]",
            "text/plain": [
              "<Figure size 1080x360 with 2 Axes>"
            ]
          },
          "metadata": {
            "tags": [],
            "needs_background": "light"
          }
        }
      ]
    },
    {
      "cell_type": "markdown",
      "metadata": {
        "id": "lsgrEaxMVsMA"
      },
      "source": [
        "**The green line tells us the prediction of the input data while dark line is the target value**"
      ]
    },
    {
      "cell_type": "markdown",
      "metadata": {
        "id": "QbtGSXasv76q"
      },
      "source": [
        "## **Sentimental Analysis of News headlines**\n"
      ]
    },
    {
      "cell_type": "code",
      "metadata": {
        "id": "5Le60CChv76r"
      },
      "source": [
        "import pandas as pd\n",
        "import numpy as np\n",
        "import matplotlib.pyplot as plt\n",
        "from textblob import TextBlob"
      ],
      "execution_count": 24,
      "outputs": []
    },
    {
      "cell_type": "code",
      "metadata": {
        "id": "ZSwtAblhv76w"
      },
      "source": [
        "# pip install TextBlob"
      ],
      "execution_count": 25,
      "outputs": []
    },
    {
      "cell_type": "markdown",
      "metadata": {
        "id": "_tbfbpJsxbcq"
      },
      "source": [
        "**Reading dataset directly from google and\n",
        "Printing the first 5 rows of the dataset**"
      ]
    },
    {
      "cell_type": "code",
      "metadata": {
        "id": "LgbfU_CNwe7L",
        "colab": {
          "base_uri": "https://localhost:8080/",
          "height": 195
        },
        "outputId": "a9104366-2c45-4251-d33c-fc7473de84b2"
      },
      "source": [
        "dataset = pd.read_csv('https://dataverse.harvard.edu/api/access/datafile/:persistentId?persistentId=doi:10.7910/DVN/DPQMQH/P2Z4PM')\n",
        "dataset.head()"
      ],
      "execution_count": 26,
      "outputs": [
        {
          "output_type": "execute_result",
          "data": {
            "text/html": [
              "<div>\n",
              "<style scoped>\n",
              "    .dataframe tbody tr th:only-of-type {\n",
              "        vertical-align: middle;\n",
              "    }\n",
              "\n",
              "    .dataframe tbody tr th {\n",
              "        vertical-align: top;\n",
              "    }\n",
              "\n",
              "    .dataframe thead th {\n",
              "        text-align: right;\n",
              "    }\n",
              "</style>\n",
              "<table border=\"1\" class=\"dataframe\">\n",
              "  <thead>\n",
              "    <tr style=\"text-align: right;\">\n",
              "      <th></th>\n",
              "      <th>publish_date</th>\n",
              "      <th>headline_category</th>\n",
              "      <th>headline_text</th>\n",
              "    </tr>\n",
              "  </thead>\n",
              "  <tbody>\n",
              "    <tr>\n",
              "      <th>0</th>\n",
              "      <td>20010101</td>\n",
              "      <td>sports.wwe</td>\n",
              "      <td>win over cena satisfying but defeating underta...</td>\n",
              "    </tr>\n",
              "    <tr>\n",
              "      <th>1</th>\n",
              "      <td>20010102</td>\n",
              "      <td>unknown</td>\n",
              "      <td>Status quo will not be disturbed at Ayodhya; s...</td>\n",
              "    </tr>\n",
              "    <tr>\n",
              "      <th>2</th>\n",
              "      <td>20010102</td>\n",
              "      <td>unknown</td>\n",
              "      <td>Fissures in Hurriyat over Pak visit</td>\n",
              "    </tr>\n",
              "    <tr>\n",
              "      <th>3</th>\n",
              "      <td>20010102</td>\n",
              "      <td>unknown</td>\n",
              "      <td>America's unwanted heading for India?</td>\n",
              "    </tr>\n",
              "    <tr>\n",
              "      <th>4</th>\n",
              "      <td>20010102</td>\n",
              "      <td>unknown</td>\n",
              "      <td>For bigwigs; it is destination Goa</td>\n",
              "    </tr>\n",
              "  </tbody>\n",
              "</table>\n",
              "</div>"
            ],
            "text/plain": [
              "   publish_date  ...                                      headline_text\n",
              "0      20010101  ...  win over cena satisfying but defeating underta...\n",
              "1      20010102  ...  Status quo will not be disturbed at Ayodhya; s...\n",
              "2      20010102  ...                Fissures in Hurriyat over Pak visit\n",
              "3      20010102  ...              America's unwanted heading for India?\n",
              "4      20010102  ...                 For bigwigs; it is destination Goa\n",
              "\n",
              "[5 rows x 3 columns]"
            ]
          },
          "metadata": {
            "tags": []
          },
          "execution_count": 26
        }
      ]
    },
    {
      "cell_type": "markdown",
      "metadata": {
        "id": "EtyV1zF5x1WV"
      },
      "source": [
        "**Printing the last 5 rows of the dataset**"
      ]
    },
    {
      "cell_type": "code",
      "metadata": {
        "id": "He7iLbrSwvEi",
        "colab": {
          "base_uri": "https://localhost:8080/",
          "height": 195
        },
        "outputId": "f11808f5-0b42-4460-a19b-adac16a2dc54"
      },
      "source": [
        "dataset.tail()"
      ],
      "execution_count": 27,
      "outputs": [
        {
          "output_type": "execute_result",
          "data": {
            "text/html": [
              "<div>\n",
              "<style scoped>\n",
              "    .dataframe tbody tr th:only-of-type {\n",
              "        vertical-align: middle;\n",
              "    }\n",
              "\n",
              "    .dataframe tbody tr th {\n",
              "        vertical-align: top;\n",
              "    }\n",
              "\n",
              "    .dataframe thead th {\n",
              "        text-align: right;\n",
              "    }\n",
              "</style>\n",
              "<table border=\"1\" class=\"dataframe\">\n",
              "  <thead>\n",
              "    <tr style=\"text-align: right;\">\n",
              "      <th></th>\n",
              "      <th>publish_date</th>\n",
              "      <th>headline_category</th>\n",
              "      <th>headline_text</th>\n",
              "    </tr>\n",
              "  </thead>\n",
              "  <tbody>\n",
              "    <tr>\n",
              "      <th>3297167</th>\n",
              "      <td>20200630</td>\n",
              "      <td>gadgets-news</td>\n",
              "      <td>why tiktok removed 1 65 crore videos in india</td>\n",
              "    </tr>\n",
              "    <tr>\n",
              "      <th>3297168</th>\n",
              "      <td>20200630</td>\n",
              "      <td>entertainment.hindi.bollywood</td>\n",
              "      <td>apurva asrani calls alia bhatts mother soni ra...</td>\n",
              "    </tr>\n",
              "    <tr>\n",
              "      <th>3297169</th>\n",
              "      <td>20200630</td>\n",
              "      <td>entertainment.hindi.bollywood</td>\n",
              "      <td>kangana ranaut gets a doll version of herself ...</td>\n",
              "    </tr>\n",
              "    <tr>\n",
              "      <th>3297170</th>\n",
              "      <td>20200630</td>\n",
              "      <td>entertainment.hindi.bollywood</td>\n",
              "      <td>meezaan jaffrey reminisces his childhood days ...</td>\n",
              "    </tr>\n",
              "    <tr>\n",
              "      <th>3297171</th>\n",
              "      <td>20200630</td>\n",
              "      <td>entertainment.telugu.movies.news</td>\n",
              "      <td>prabhas20 titled as radhe shyam prabhas and po...</td>\n",
              "    </tr>\n",
              "  </tbody>\n",
              "</table>\n",
              "</div>"
            ],
            "text/plain": [
              "         publish_date  ...                                      headline_text\n",
              "3297167      20200630  ...      why tiktok removed 1 65 crore videos in india\n",
              "3297168      20200630  ...  apurva asrani calls alia bhatts mother soni ra...\n",
              "3297169      20200630  ...  kangana ranaut gets a doll version of herself ...\n",
              "3297170      20200630  ...  meezaan jaffrey reminisces his childhood days ...\n",
              "3297171      20200630  ...  prabhas20 titled as radhe shyam prabhas and po...\n",
              "\n",
              "[5 rows x 3 columns]"
            ]
          },
          "metadata": {
            "tags": []
          },
          "execution_count": 27
        }
      ]
    },
    {
      "cell_type": "markdown",
      "metadata": {
        "id": "YGaYvf-eyDIf"
      },
      "source": [
        "### **1. Exploratory Data Analysis - Checking the types of data and basic summary stats.**"
      ]
    },
    {
      "cell_type": "markdown",
      "metadata": {
        "id": "Atc9ELZryJgm"
      },
      "source": [
        "There are three features - **Publish Data, HeadLine Category and HeadLine Text**.The main aim is to do **sentimental analysis** of the news HeadLines."
      ]
    },
    {
      "cell_type": "markdown",
      "metadata": {
        "id": "C14RBCsHy17h"
      },
      "source": [
        "**1.1 Displaying datatype of each column and also display the non-null row**"
      ]
    },
    {
      "cell_type": "code",
      "metadata": {
        "id": "GdydVSbNx4vp",
        "colab": {
          "base_uri": "https://localhost:8080/"
        },
        "outputId": "2c40a17b-6e02-41eb-f744-0ff8053e36d7"
      },
      "source": [
        "dataset.info()"
      ],
      "execution_count": 28,
      "outputs": [
        {
          "output_type": "stream",
          "text": [
            "<class 'pandas.core.frame.DataFrame'>\n",
            "RangeIndex: 3297172 entries, 0 to 3297171\n",
            "Data columns (total 3 columns):\n",
            " #   Column             Dtype \n",
            "---  ------             ----- \n",
            " 0   publish_date       int64 \n",
            " 1   headline_category  object\n",
            " 2   headline_text      object\n",
            "dtypes: int64(1), object(2)\n",
            "memory usage: 75.5+ MB\n"
          ],
          "name": "stdout"
        }
      ]
    },
    {
      "cell_type": "markdown",
      "metadata": {
        "id": "VbmN8WR7zAXb"
      },
      "source": [
        "**Observation**: We can find that only the **publish_date is of integer type** where as **headline_category and headline_text are of object**"
      ]
    },
    {
      "cell_type": "markdown",
      "metadata": {
        "id": "7AxwoHgRzVDy"
      },
      "source": [
        "**1.2 Finding the categorical variables**"
      ]
    },
    {
      "cell_type": "code",
      "metadata": {
        "id": "knKPkcg-y9UA",
        "colab": {
          "base_uri": "https://localhost:8080/"
        },
        "outputId": "85775dd7-e4f1-49bb-f9ef-1f7eebf02b92"
      },
      "source": [
        "dataset['headline_category'].value_counts()"
      ],
      "execution_count": 29,
      "outputs": [
        {
          "output_type": "execute_result",
          "data": {
            "text/plain": [
              "india                      285619\n",
              "unknown                    207732\n",
              "city.mumbai                132649\n",
              "city.delhi                 124658\n",
              "business.india-business    115246\n",
              "                            ...  \n",
              "sports.headline3                7\n",
              "ballot-talk                     7\n",
              "did-you-know                    6\n",
              "sports.headline6                3\n",
              "party-manifestos                2\n",
              "Name: headline_category, Length: 1016, dtype: int64"
            ]
          },
          "metadata": {
            "tags": []
          },
          "execution_count": 29
        }
      ]
    },
    {
      "cell_type": "markdown",
      "metadata": {
        "id": "XVByR1LEzrcr"
      },
      "source": [
        "**1.3 Dividing the news based on cities**"
      ]
    },
    {
      "cell_type": "code",
      "metadata": {
        "id": "HyEtg53Lzb-m",
        "colab": {
          "base_uri": "https://localhost:8080/",
          "height": 402
        },
        "outputId": "59d92283-c0d9-4274-9813-163b029cf99e"
      },
      "source": [
        "city_vise = dataset[dataset['headline_category'].str.contains('^city\\.[a-z]+$', regex=True\n",
        "                                                               )]\n",
        "city_vise"
      ],
      "execution_count": 30,
      "outputs": [
        {
          "output_type": "execute_result",
          "data": {
            "text/html": [
              "<div>\n",
              "<style scoped>\n",
              "    .dataframe tbody tr th:only-of-type {\n",
              "        vertical-align: middle;\n",
              "    }\n",
              "\n",
              "    .dataframe tbody tr th {\n",
              "        vertical-align: top;\n",
              "    }\n",
              "\n",
              "    .dataframe thead th {\n",
              "        text-align: right;\n",
              "    }\n",
              "</style>\n",
              "<table border=\"1\" class=\"dataframe\">\n",
              "  <thead>\n",
              "    <tr style=\"text-align: right;\">\n",
              "      <th></th>\n",
              "      <th>publish_date</th>\n",
              "      <th>headline_category</th>\n",
              "      <th>headline_text</th>\n",
              "    </tr>\n",
              "  </thead>\n",
              "  <tbody>\n",
              "    <tr>\n",
              "      <th>274</th>\n",
              "      <td>20010104</td>\n",
              "      <td>city.bengaluru</td>\n",
              "      <td>Three in race for chief secy's post</td>\n",
              "    </tr>\n",
              "    <tr>\n",
              "      <th>275</th>\n",
              "      <td>20010104</td>\n",
              "      <td>city.patna</td>\n",
              "      <td>Druggists' stir leads to shortage of medicines</td>\n",
              "    </tr>\n",
              "    <tr>\n",
              "      <th>278</th>\n",
              "      <td>20010104</td>\n",
              "      <td>city.bengaluru</td>\n",
              "      <td>He's not so inscrutable</td>\n",
              "    </tr>\n",
              "    <tr>\n",
              "      <th>279</th>\n",
              "      <td>20010104</td>\n",
              "      <td>city.delhi</td>\n",
              "      <td>DPCC stages Nyay rally</td>\n",
              "    </tr>\n",
              "    <tr>\n",
              "      <th>643</th>\n",
              "      <td>20010110</td>\n",
              "      <td>city.patna</td>\n",
              "      <td>Fend for yourselves; Pande tells doctors</td>\n",
              "    </tr>\n",
              "    <tr>\n",
              "      <th>...</th>\n",
              "      <td>...</td>\n",
              "      <td>...</td>\n",
              "      <td>...</td>\n",
              "    </tr>\n",
              "    <tr>\n",
              "      <th>3297139</th>\n",
              "      <td>20200630</td>\n",
              "      <td>city.delhi</td>\n",
              "      <td>Remove illegal signage or face penalty: NDMC</td>\n",
              "    </tr>\n",
              "    <tr>\n",
              "      <th>3297158</th>\n",
              "      <td>20200630</td>\n",
              "      <td>city.bengaluru</td>\n",
              "      <td>what bengaluru can do to tackle covid surge</td>\n",
              "    </tr>\n",
              "    <tr>\n",
              "      <th>3297161</th>\n",
              "      <td>20200630</td>\n",
              "      <td>city.bengaluru</td>\n",
              "      <td>karnataka may adopt keralas triple lockdown plan</td>\n",
              "    </tr>\n",
              "    <tr>\n",
              "      <th>3297162</th>\n",
              "      <td>20200630</td>\n",
              "      <td>city.kanpur</td>\n",
              "      <td>vehicle of up stf team bringing gangster vikas...</td>\n",
              "    </tr>\n",
              "    <tr>\n",
              "      <th>3297166</th>\n",
              "      <td>20200630</td>\n",
              "      <td>city.lucknow</td>\n",
              "      <td>up govt imposes weekend restrictions from tonight</td>\n",
              "    </tr>\n",
              "  </tbody>\n",
              "</table>\n",
              "<p>1842288 rows × 3 columns</p>\n",
              "</div>"
            ],
            "text/plain": [
              "         publish_date  ...                                      headline_text\n",
              "274          20010104  ...                Three in race for chief secy's post\n",
              "275          20010104  ...     Druggists' stir leads to shortage of medicines\n",
              "278          20010104  ...                            He's not so inscrutable\n",
              "279          20010104  ...                             DPCC stages Nyay rally\n",
              "643          20010110  ...           Fend for yourselves; Pande tells doctors\n",
              "...               ...  ...                                                ...\n",
              "3297139      20200630  ...       Remove illegal signage or face penalty: NDMC\n",
              "3297158      20200630  ...        what bengaluru can do to tackle covid surge\n",
              "3297161      20200630  ...   karnataka may adopt keralas triple lockdown plan\n",
              "3297162      20200630  ...  vehicle of up stf team bringing gangster vikas...\n",
              "3297166      20200630  ...  up govt imposes weekend restrictions from tonight\n",
              "\n",
              "[1842288 rows x 3 columns]"
            ]
          },
          "metadata": {
            "tags": []
          },
          "execution_count": 30
        }
      ]
    },
    {
      "cell_type": "markdown",
      "metadata": {
        "id": "pPmIjc730FRG"
      },
      "source": [
        "**Observation**: Now we have split the dataset based on cities for easy analysis"
      ]
    },
    {
      "cell_type": "markdown",
      "metadata": {
        "id": "lOYz1TWA0U4g"
      },
      "source": [
        "**1.4 Seperating city name from dataset**"
      ]
    },
    {
      "cell_type": "code",
      "metadata": {
        "id": "aiZ2va8k0CFk"
      },
      "source": [
        "city = pd.DataFrame(columns=['city_name'])"
      ],
      "execution_count": 31,
      "outputs": []
    },
    {
      "cell_type": "code",
      "metadata": {
        "id": "u7qTQ0em0lnK"
      },
      "source": [
        "city['city_name'] = city_vise.headline_category.str.split('.',expand=True)[1]"
      ],
      "execution_count": 32,
      "outputs": []
    },
    {
      "cell_type": "code",
      "metadata": {
        "id": "gac-bMyr0pYY"
      },
      "source": [
        "city_vise = pd.concat([city_vise,city],axis = 1)"
      ],
      "execution_count": 33,
      "outputs": []
    },
    {
      "cell_type": "code",
      "metadata": {
        "id": "R5w6pmKM137w"
      },
      "source": [
        "city_vise.drop(columns=['headline_category'],axis=1,inplace=True)"
      ],
      "execution_count": 34,
      "outputs": []
    },
    {
      "cell_type": "code",
      "metadata": {
        "id": "qF63VpKI1_0U"
      },
      "source": [
        "city_vise.reset_index(inplace = True)"
      ],
      "execution_count": 35,
      "outputs": []
    },
    {
      "cell_type": "code",
      "metadata": {
        "id": "KuQDW1dY2EPx",
        "colab": {
          "base_uri": "https://localhost:8080/",
          "height": 195
        },
        "outputId": "ffcf951d-3eac-45b2-f8d9-bc4f3baa433e"
      },
      "source": [
        "city_vise.head()"
      ],
      "execution_count": 36,
      "outputs": [
        {
          "output_type": "execute_result",
          "data": {
            "text/html": [
              "<div>\n",
              "<style scoped>\n",
              "    .dataframe tbody tr th:only-of-type {\n",
              "        vertical-align: middle;\n",
              "    }\n",
              "\n",
              "    .dataframe tbody tr th {\n",
              "        vertical-align: top;\n",
              "    }\n",
              "\n",
              "    .dataframe thead th {\n",
              "        text-align: right;\n",
              "    }\n",
              "</style>\n",
              "<table border=\"1\" class=\"dataframe\">\n",
              "  <thead>\n",
              "    <tr style=\"text-align: right;\">\n",
              "      <th></th>\n",
              "      <th>index</th>\n",
              "      <th>publish_date</th>\n",
              "      <th>headline_text</th>\n",
              "      <th>city_name</th>\n",
              "    </tr>\n",
              "  </thead>\n",
              "  <tbody>\n",
              "    <tr>\n",
              "      <th>0</th>\n",
              "      <td>274</td>\n",
              "      <td>20010104</td>\n",
              "      <td>Three in race for chief secy's post</td>\n",
              "      <td>bengaluru</td>\n",
              "    </tr>\n",
              "    <tr>\n",
              "      <th>1</th>\n",
              "      <td>275</td>\n",
              "      <td>20010104</td>\n",
              "      <td>Druggists' stir leads to shortage of medicines</td>\n",
              "      <td>patna</td>\n",
              "    </tr>\n",
              "    <tr>\n",
              "      <th>2</th>\n",
              "      <td>278</td>\n",
              "      <td>20010104</td>\n",
              "      <td>He's not so inscrutable</td>\n",
              "      <td>bengaluru</td>\n",
              "    </tr>\n",
              "    <tr>\n",
              "      <th>3</th>\n",
              "      <td>279</td>\n",
              "      <td>20010104</td>\n",
              "      <td>DPCC stages Nyay rally</td>\n",
              "      <td>delhi</td>\n",
              "    </tr>\n",
              "    <tr>\n",
              "      <th>4</th>\n",
              "      <td>643</td>\n",
              "      <td>20010110</td>\n",
              "      <td>Fend for yourselves; Pande tells doctors</td>\n",
              "      <td>patna</td>\n",
              "    </tr>\n",
              "  </tbody>\n",
              "</table>\n",
              "</div>"
            ],
            "text/plain": [
              "   index  ...  city_name\n",
              "0    274  ...  bengaluru\n",
              "1    275  ...      patna\n",
              "2    278  ...  bengaluru\n",
              "3    279  ...      delhi\n",
              "4    643  ...      patna\n",
              "\n",
              "[5 rows x 4 columns]"
            ]
          },
          "metadata": {
            "tags": []
          },
          "execution_count": 36
        }
      ]
    },
    {
      "cell_type": "code",
      "metadata": {
        "id": "qMk4Q-1J2MQm",
        "colab": {
          "base_uri": "https://localhost:8080/"
        },
        "outputId": "3af295b8-4d0d-4a9d-f7f2-a35a2006d17e"
      },
      "source": [
        "city_vise.city_name.unique()"
      ],
      "execution_count": 37,
      "outputs": [
        {
          "output_type": "execute_result",
          "data": {
            "text/plain": [
              "array(['bengaluru', 'patna', 'delhi', 'ahmedabad', 'thiruvananthapuram',\n",
              "       'pune', 'mumbai', 'chandigarh', 'lucknow', 'kolkata', 'hyderabad',\n",
              "       'chennai', 'bareilly', 'aurangabad', 'nagpur', 'bhopal',\n",
              "       'vadodara', 'jaipur', 'goa', 'thane', 'hubballi', 'mangaluru',\n",
              "       'mysuru', 'rajkot', 'surat', 'kanpur', 'varanasi', 'allahabad',\n",
              "       'ludhiana', 'guwahati', 'bhubaneswar', 'ranchi', 'gurgaon',\n",
              "       'coimbatore', 'noida', 'madurai', 'indore', 'kochi', 'kozhikode',\n",
              "       'nashik', 'raipur', 'visakhapatnam', 'kolhapur', 'navimumbai',\n",
              "       'trichy', 'puducherry', 'dehradun', 'meerut', 'agra', 'vijayawada',\n",
              "       'jamshedpur', 'imphal', 'shillong', 'amritsar', 'shimla',\n",
              "       'cuttack', 'jind', 'agartala', 'jammu', 'faridabad', 'srinagar',\n",
              "       'salem', 'rajahmundry', 'erode', 'ghaziabad', 'itanagar', 'ajmer',\n",
              "       'kohima', 'gaya', 'jodhpur', 'udaipur', 'amaravati'], dtype=object)"
            ]
          },
          "metadata": {
            "tags": []
          },
          "execution_count": 37
        }
      ]
    },
    {
      "cell_type": "markdown",
      "metadata": {
        "id": "H76OzzGB3VJH"
      },
      "source": [
        "**1.5 Finding the city with most headlines**"
      ]
    },
    {
      "cell_type": "code",
      "metadata": {
        "id": "XWz1q2YW2q5N"
      },
      "source": [
        "city_head = city_vise.groupby(['city_name']).agg({'headline_text':'count'})"
      ],
      "execution_count": 38,
      "outputs": []
    },
    {
      "cell_type": "code",
      "metadata": {
        "id": "emDgYWYF3oip",
        "colab": {
          "base_uri": "https://localhost:8080/",
          "height": 373
        },
        "outputId": "c589f274-b5a3-4212-eb82-faedea0a52c3"
      },
      "source": [
        "city_headline_count = city_head.sort_values(by='headline_text',ascending=False)\n",
        "most_headline_city = city_headline_count.head(10)\n",
        "most_headline_city"
      ],
      "execution_count": 39,
      "outputs": [
        {
          "output_type": "execute_result",
          "data": {
            "text/html": [
              "<div>\n",
              "<style scoped>\n",
              "    .dataframe tbody tr th:only-of-type {\n",
              "        vertical-align: middle;\n",
              "    }\n",
              "\n",
              "    .dataframe tbody tr th {\n",
              "        vertical-align: top;\n",
              "    }\n",
              "\n",
              "    .dataframe thead th {\n",
              "        text-align: right;\n",
              "    }\n",
              "</style>\n",
              "<table border=\"1\" class=\"dataframe\">\n",
              "  <thead>\n",
              "    <tr style=\"text-align: right;\">\n",
              "      <th></th>\n",
              "      <th>headline_text</th>\n",
              "    </tr>\n",
              "    <tr>\n",
              "      <th>city_name</th>\n",
              "      <th></th>\n",
              "    </tr>\n",
              "  </thead>\n",
              "  <tbody>\n",
              "    <tr>\n",
              "      <th>mumbai</th>\n",
              "      <td>132649</td>\n",
              "    </tr>\n",
              "    <tr>\n",
              "      <th>delhi</th>\n",
              "      <td>124658</td>\n",
              "    </tr>\n",
              "    <tr>\n",
              "      <th>chandigarh</th>\n",
              "      <td>107464</td>\n",
              "    </tr>\n",
              "    <tr>\n",
              "      <th>hyderabad</th>\n",
              "      <td>99014</td>\n",
              "    </tr>\n",
              "    <tr>\n",
              "      <th>bengaluru</th>\n",
              "      <td>91857</td>\n",
              "    </tr>\n",
              "    <tr>\n",
              "      <th>ahmedabad</th>\n",
              "      <td>85813</td>\n",
              "    </tr>\n",
              "    <tr>\n",
              "      <th>pune</th>\n",
              "      <td>84620</td>\n",
              "    </tr>\n",
              "    <tr>\n",
              "      <th>lucknow</th>\n",
              "      <td>83591</td>\n",
              "    </tr>\n",
              "    <tr>\n",
              "      <th>kolkata</th>\n",
              "      <td>81298</td>\n",
              "    </tr>\n",
              "    <tr>\n",
              "      <th>nagpur</th>\n",
              "      <td>77300</td>\n",
              "    </tr>\n",
              "  </tbody>\n",
              "</table>\n",
              "</div>"
            ],
            "text/plain": [
              "            headline_text\n",
              "city_name                \n",
              "mumbai             132649\n",
              "delhi              124658\n",
              "chandigarh         107464\n",
              "hyderabad           99014\n",
              "bengaluru           91857\n",
              "ahmedabad           85813\n",
              "pune                84620\n",
              "lucknow             83591\n",
              "kolkata             81298\n",
              "nagpur              77300"
            ]
          },
          "metadata": {
            "tags": []
          },
          "execution_count": 39
        }
      ]
    },
    {
      "cell_type": "markdown",
      "metadata": {
        "id": "QQmGmQ4o4R5D"
      },
      "source": [
        "**1.6 Visualizing the headline count**"
      ]
    },
    {
      "cell_type": "code",
      "metadata": {
        "id": "gvkb6hx-31zT",
        "colab": {
          "base_uri": "https://localhost:8080/",
          "height": 833
        },
        "outputId": "9bfc2612-a903-4cbb-92b0-429c555cb076"
      },
      "source": [
        "plt.figure(figsize=(20,12))\n",
        "plt.bar(most_headline_city.index,height=most_headline_city['headline_text'])\n",
        "plt.xticks(rotation = 45,fontsize=20)\n",
        "plt.yticks(rotation = 45,fontsize=20)\n",
        "plt.xlabel('Cities in India',fontsize=20)\n",
        "plt.ylabel('Number of Headlines',fontsize=20)\n",
        "plt.title('Number of Headlines per city',fontsize=20)\n",
        "plt.show()"
      ],
      "execution_count": 40,
      "outputs": [
        {
          "output_type": "display_data",
          "data": {
            "image/png": "[encoded data removed]",
            "text/plain": [
              "<Figure size 1440x864 with 1 Axes>"
            ]
          },
          "metadata": {
            "tags": [],
            "needs_background": "light"
          }
        }
      ]
    },
    {
      "cell_type": "markdown",
      "metadata": {
        "id": "2VGegzwf5MH5"
      },
      "source": [
        "**Observation**: We can find that **Mumbai** has highest headlines over the remaining countries followed by **Delhi** and **Chandigarh**"
      ]
    },
    {
      "cell_type": "markdown",
      "metadata": {
        "id": "pKrymvSp6I-S"
      },
      "source": [
        "### **2. Checking Year and Most coverage cities**"
      ]
    },
    {
      "cell_type": "markdown",
      "metadata": {
        "id": "xf1VrLiD6TQQ"
      },
      "source": [
        "**2.1 Converting the publish_data datatype as date time**"
      ]
    },
    {
      "cell_type": "code",
      "metadata": {
        "id": "jXwbf7Fd6Nfr",
        "colab": {
          "base_uri": "https://localhost:8080/",
          "height": 195
        },
        "outputId": "c2be7aaa-49fe-4ff8-b261-7f21ea4cc24e"
      },
      "source": [
        "city_vise['publish_date'] = pd.to_datetime(city_vise['publish_date'])\n",
        "city_vise.head()"
      ],
      "execution_count": 41,
      "outputs": [
        {
          "output_type": "execute_result",
          "data": {
            "text/html": [
              "<div>\n",
              "<style scoped>\n",
              "    .dataframe tbody tr th:only-of-type {\n",
              "        vertical-align: middle;\n",
              "    }\n",
              "\n",
              "    .dataframe tbody tr th {\n",
              "        vertical-align: top;\n",
              "    }\n",
              "\n",
              "    .dataframe thead th {\n",
              "        text-align: right;\n",
              "    }\n",
              "</style>\n",
              "<table border=\"1\" class=\"dataframe\">\n",
              "  <thead>\n",
              "    <tr style=\"text-align: right;\">\n",
              "      <th></th>\n",
              "      <th>index</th>\n",
              "      <th>publish_date</th>\n",
              "      <th>headline_text</th>\n",
              "      <th>city_name</th>\n",
              "    </tr>\n",
              "  </thead>\n",
              "  <tbody>\n",
              "    <tr>\n",
              "      <th>0</th>\n",
              "      <td>274</td>\n",
              "      <td>1970-01-01 00:00:00.020010104</td>\n",
              "      <td>Three in race for chief secy's post</td>\n",
              "      <td>bengaluru</td>\n",
              "    </tr>\n",
              "    <tr>\n",
              "      <th>1</th>\n",
              "      <td>275</td>\n",
              "      <td>1970-01-01 00:00:00.020010104</td>\n",
              "      <td>Druggists' stir leads to shortage of medicines</td>\n",
              "      <td>patna</td>\n",
              "    </tr>\n",
              "    <tr>\n",
              "      <th>2</th>\n",
              "      <td>278</td>\n",
              "      <td>1970-01-01 00:00:00.020010104</td>\n",
              "      <td>He's not so inscrutable</td>\n",
              "      <td>bengaluru</td>\n",
              "    </tr>\n",
              "    <tr>\n",
              "      <th>3</th>\n",
              "      <td>279</td>\n",
              "      <td>1970-01-01 00:00:00.020010104</td>\n",
              "      <td>DPCC stages Nyay rally</td>\n",
              "      <td>delhi</td>\n",
              "    </tr>\n",
              "    <tr>\n",
              "      <th>4</th>\n",
              "      <td>643</td>\n",
              "      <td>1970-01-01 00:00:00.020010110</td>\n",
              "      <td>Fend for yourselves; Pande tells doctors</td>\n",
              "      <td>patna</td>\n",
              "    </tr>\n",
              "  </tbody>\n",
              "</table>\n",
              "</div>"
            ],
            "text/plain": [
              "   index  ...  city_name\n",
              "0    274  ...  bengaluru\n",
              "1    275  ...      patna\n",
              "2    278  ...  bengaluru\n",
              "3    279  ...      delhi\n",
              "4    643  ...      patna\n",
              "\n",
              "[5 rows x 4 columns]"
            ]
          },
          "metadata": {
            "tags": []
          },
          "execution_count": 41
        }
      ]
    },
    {
      "cell_type": "markdown",
      "metadata": {
        "id": "5WBxLStE6lcn"
      },
      "source": [
        "**2.2 Extracting the Year**"
      ]
    },
    {
      "cell_type": "code",
      "metadata": {
        "id": "RpBlnQxI6hNu"
      },
      "source": [
        "city_vise['Year'] = city_vise['publish_date'].apply(lambda x: (x.microsecond)//10)"
      ],
      "execution_count": 42,
      "outputs": []
    },
    {
      "cell_type": "code",
      "metadata": {
        "id": "b5OMQwhS6wwS"
      },
      "source": [
        "city_vise.drop(columns=['publish_date','index'],axis=1,inplace=True)"
      ],
      "execution_count": 43,
      "outputs": []
    },
    {
      "cell_type": "code",
      "metadata": {
        "id": "WJwdIC4064qr",
        "colab": {
          "base_uri": "https://localhost:8080/",
          "height": 195
        },
        "outputId": "a14463bb-66bc-4e8c-9612-524187204d5f"
      },
      "source": [
        "city_vise.head()"
      ],
      "execution_count": 44,
      "outputs": [
        {
          "output_type": "execute_result",
          "data": {
            "text/html": [
              "<div>\n",
              "<style scoped>\n",
              "    .dataframe tbody tr th:only-of-type {\n",
              "        vertical-align: middle;\n",
              "    }\n",
              "\n",
              "    .dataframe tbody tr th {\n",
              "        vertical-align: top;\n",
              "    }\n",
              "\n",
              "    .dataframe thead th {\n",
              "        text-align: right;\n",
              "    }\n",
              "</style>\n",
              "<table border=\"1\" class=\"dataframe\">\n",
              "  <thead>\n",
              "    <tr style=\"text-align: right;\">\n",
              "      <th></th>\n",
              "      <th>headline_text</th>\n",
              "      <th>city_name</th>\n",
              "      <th>Year</th>\n",
              "    </tr>\n",
              "  </thead>\n",
              "  <tbody>\n",
              "    <tr>\n",
              "      <th>0</th>\n",
              "      <td>Three in race for chief secy's post</td>\n",
              "      <td>bengaluru</td>\n",
              "      <td>2001</td>\n",
              "    </tr>\n",
              "    <tr>\n",
              "      <th>1</th>\n",
              "      <td>Druggists' stir leads to shortage of medicines</td>\n",
              "      <td>patna</td>\n",
              "      <td>2001</td>\n",
              "    </tr>\n",
              "    <tr>\n",
              "      <th>2</th>\n",
              "      <td>He's not so inscrutable</td>\n",
              "      <td>bengaluru</td>\n",
              "      <td>2001</td>\n",
              "    </tr>\n",
              "    <tr>\n",
              "      <th>3</th>\n",
              "      <td>DPCC stages Nyay rally</td>\n",
              "      <td>delhi</td>\n",
              "      <td>2001</td>\n",
              "    </tr>\n",
              "    <tr>\n",
              "      <th>4</th>\n",
              "      <td>Fend for yourselves; Pande tells doctors</td>\n",
              "      <td>patna</td>\n",
              "      <td>2001</td>\n",
              "    </tr>\n",
              "  </tbody>\n",
              "</table>\n",
              "</div>"
            ],
            "text/plain": [
              "                                    headline_text  city_name  Year\n",
              "0             Three in race for chief secy's post  bengaluru  2001\n",
              "1  Druggists' stir leads to shortage of medicines      patna  2001\n",
              "2                         He's not so inscrutable  bengaluru  2001\n",
              "3                          DPCC stages Nyay rally      delhi  2001\n",
              "4        Fend for yourselves; Pande tells doctors      patna  2001"
            ]
          },
          "metadata": {
            "tags": []
          },
          "execution_count": 44
        }
      ]
    },
    {
      "cell_type": "markdown",
      "metadata": {
        "id": "kL6AgEtv7rH0"
      },
      "source": [
        "**2.3 Creating a new column to count headlines**"
      ]
    },
    {
      "cell_type": "code",
      "metadata": {
        "id": "c--NmC0V7KfZ",
        "colab": {
          "base_uri": "https://localhost:8080/",
          "height": 195
        },
        "outputId": "7401adcb-ba0e-43bf-d12d-cd3d864f5365"
      },
      "source": [
        "city_vise_dup = city_vise.copy()\n",
        "city_vise_dup['Headlines Count'] = 1\n",
        "city_vise_dup.head()"
      ],
      "execution_count": 45,
      "outputs": [
        {
          "output_type": "execute_result",
          "data": {
            "text/html": [
              "<div>\n",
              "<style scoped>\n",
              "    .dataframe tbody tr th:only-of-type {\n",
              "        vertical-align: middle;\n",
              "    }\n",
              "\n",
              "    .dataframe tbody tr th {\n",
              "        vertical-align: top;\n",
              "    }\n",
              "\n",
              "    .dataframe thead th {\n",
              "        text-align: right;\n",
              "    }\n",
              "</style>\n",
              "<table border=\"1\" class=\"dataframe\">\n",
              "  <thead>\n",
              "    <tr style=\"text-align: right;\">\n",
              "      <th></th>\n",
              "      <th>headline_text</th>\n",
              "      <th>city_name</th>\n",
              "      <th>Year</th>\n",
              "      <th>Headlines Count</th>\n",
              "    </tr>\n",
              "  </thead>\n",
              "  <tbody>\n",
              "    <tr>\n",
              "      <th>0</th>\n",
              "      <td>Three in race for chief secy's post</td>\n",
              "      <td>bengaluru</td>\n",
              "      <td>2001</td>\n",
              "      <td>1</td>\n",
              "    </tr>\n",
              "    <tr>\n",
              "      <th>1</th>\n",
              "      <td>Druggists' stir leads to shortage of medicines</td>\n",
              "      <td>patna</td>\n",
              "      <td>2001</td>\n",
              "      <td>1</td>\n",
              "    </tr>\n",
              "    <tr>\n",
              "      <th>2</th>\n",
              "      <td>He's not so inscrutable</td>\n",
              "      <td>bengaluru</td>\n",
              "      <td>2001</td>\n",
              "      <td>1</td>\n",
              "    </tr>\n",
              "    <tr>\n",
              "      <th>3</th>\n",
              "      <td>DPCC stages Nyay rally</td>\n",
              "      <td>delhi</td>\n",
              "      <td>2001</td>\n",
              "      <td>1</td>\n",
              "    </tr>\n",
              "    <tr>\n",
              "      <th>4</th>\n",
              "      <td>Fend for yourselves; Pande tells doctors</td>\n",
              "      <td>patna</td>\n",
              "      <td>2001</td>\n",
              "      <td>1</td>\n",
              "    </tr>\n",
              "  </tbody>\n",
              "</table>\n",
              "</div>"
            ],
            "text/plain": [
              "                                    headline_text  ... Headlines Count\n",
              "0             Three in race for chief secy's post  ...               1\n",
              "1  Druggists' stir leads to shortage of medicines  ...               1\n",
              "2                         He's not so inscrutable  ...               1\n",
              "3                          DPCC stages Nyay rally  ...               1\n",
              "4        Fend for yourselves; Pande tells doctors  ...               1\n",
              "\n",
              "[5 rows x 4 columns]"
            ]
          },
          "metadata": {
            "tags": []
          },
          "execution_count": 45
        }
      ]
    },
    {
      "cell_type": "code",
      "metadata": {
        "id": "n8Yw-lDP79Eg",
        "colab": {
          "base_uri": "https://localhost:8080/",
          "height": 225
        },
        "outputId": "f7dce416-cb58-450e-82a0-6e6069a29496"
      },
      "source": [
        "most_headline_city.head()"
      ],
      "execution_count": 46,
      "outputs": [
        {
          "output_type": "execute_result",
          "data": {
            "text/html": [
              "<div>\n",
              "<style scoped>\n",
              "    .dataframe tbody tr th:only-of-type {\n",
              "        vertical-align: middle;\n",
              "    }\n",
              "\n",
              "    .dataframe tbody tr th {\n",
              "        vertical-align: top;\n",
              "    }\n",
              "\n",
              "    .dataframe thead th {\n",
              "        text-align: right;\n",
              "    }\n",
              "</style>\n",
              "<table border=\"1\" class=\"dataframe\">\n",
              "  <thead>\n",
              "    <tr style=\"text-align: right;\">\n",
              "      <th></th>\n",
              "      <th>headline_text</th>\n",
              "    </tr>\n",
              "    <tr>\n",
              "      <th>city_name</th>\n",
              "      <th></th>\n",
              "    </tr>\n",
              "  </thead>\n",
              "  <tbody>\n",
              "    <tr>\n",
              "      <th>mumbai</th>\n",
              "      <td>132649</td>\n",
              "    </tr>\n",
              "    <tr>\n",
              "      <th>delhi</th>\n",
              "      <td>124658</td>\n",
              "    </tr>\n",
              "    <tr>\n",
              "      <th>chandigarh</th>\n",
              "      <td>107464</td>\n",
              "    </tr>\n",
              "    <tr>\n",
              "      <th>hyderabad</th>\n",
              "      <td>99014</td>\n",
              "    </tr>\n",
              "    <tr>\n",
              "      <th>bengaluru</th>\n",
              "      <td>91857</td>\n",
              "    </tr>\n",
              "  </tbody>\n",
              "</table>\n",
              "</div>"
            ],
            "text/plain": [
              "            headline_text\n",
              "city_name                \n",
              "mumbai             132649\n",
              "delhi              124658\n",
              "chandigarh         107464\n",
              "hyderabad           99014\n",
              "bengaluru           91857"
            ]
          },
          "metadata": {
            "tags": []
          },
          "execution_count": 46
        }
      ]
    },
    {
      "cell_type": "code",
      "metadata": {
        "id": "t8_NsQ-g809P"
      },
      "source": [
        "city_vise_year_count = pd.Series(city_vise_dup.groupby(['Year'])['headline_text'].count())\n"
      ],
      "execution_count": 47,
      "outputs": []
    },
    {
      "cell_type": "code",
      "metadata": {
        "id": "QyOac0dF_FNt",
        "colab": {
          "base_uri": "https://localhost:8080/"
        },
        "outputId": "502ca2ff-3a5a-4f16-fa1b-77e553801051"
      },
      "source": [
        "city_vise_year_count.head()"
      ],
      "execution_count": 48,
      "outputs": [
        {
          "output_type": "execute_result",
          "data": {
            "text/plain": [
              "Year\n",
              "2001    31365\n",
              "2002    53721\n",
              "2003    48409\n",
              "2004    34030\n",
              "2005    15788\n",
              "Name: headline_text, dtype: int64"
            ]
          },
          "metadata": {
            "tags": []
          },
          "execution_count": 48
        }
      ]
    },
    {
      "cell_type": "code",
      "metadata": {
        "id": "Psrqm3Prbf-0",
        "colab": {
          "base_uri": "https://localhost:8080/",
          "height": 689
        },
        "outputId": "224e693a-936a-402f-8394-05d8cbb91d3b"
      },
      "source": [
        "fig=plt.figure()\n",
        "\n",
        "a = fig.add_subplot(111,label=\"1\")\n",
        "b = fig.add_subplot(111,label=\"2\", frame_on = False)\n",
        "\n",
        "plt.figure(figsize=(20,10))\n",
        "city_vise_year_count.plot(kind='bar',figsize=(20,10), ax=a,title=\"Most headlines\" ,fontsize = 20)\n",
        "a.set_ylabel('Most headlines in a year',fontsize=20)\n",
        "a.set_xlabel(\"Years\",fontsize = 20)\n",
        "\n",
        "\n",
        "\n",
        "plt.show()"
      ],
      "execution_count": 49,
      "outputs": [
        {
          "output_type": "display_data",
          "data": {
            "image/png": "[encoded data removed]",
            "text/plain": [
              "<Figure size 1440x720 with 2 Axes>"
            ]
          },
          "metadata": {
            "tags": [],
            "needs_background": "light"
          }
        },
        {
          "output_type": "display_data",
          "data": {
            "text/plain": [
              "<Figure size 1440x720 with 0 Axes>"
            ]
          },
          "metadata": {
            "tags": []
          }
        }
      ]
    },
    {
      "cell_type": "markdown",
      "metadata": {
        "id": "Axhlwf7_8QLY"
      },
      "source": [
        "**Observation**: We can find that **2016** has the most news headlines."
      ]
    },
    {
      "cell_type": "markdown",
      "metadata": {
        "id": "sE-W0WWu86JN"
      },
      "source": [
        "### **3. Topic Most Covered**"
      ]
    },
    {
      "cell_type": "code",
      "metadata": {
        "id": "9Jd-vxW5dfkp",
        "colab": {
          "base_uri": "https://localhost:8080/",
          "height": 195
        },
        "outputId": "4ba88128-8be0-40f5-de50-d98f529900fe"
      },
      "source": [
        "dataset.head()"
      ],
      "execution_count": 50,
      "outputs": [
        {
          "output_type": "execute_result",
          "data": {
            "text/html": [
              "<div>\n",
              "<style scoped>\n",
              "    .dataframe tbody tr th:only-of-type {\n",
              "        vertical-align: middle;\n",
              "    }\n",
              "\n",
              "    .dataframe tbody tr th {\n",
              "        vertical-align: top;\n",
              "    }\n",
              "\n",
              "    .dataframe thead th {\n",
              "        text-align: right;\n",
              "    }\n",
              "</style>\n",
              "<table border=\"1\" class=\"dataframe\">\n",
              "  <thead>\n",
              "    <tr style=\"text-align: right;\">\n",
              "      <th></th>\n",
              "      <th>publish_date</th>\n",
              "      <th>headline_category</th>\n",
              "      <th>headline_text</th>\n",
              "    </tr>\n",
              "  </thead>\n",
              "  <tbody>\n",
              "    <tr>\n",
              "      <th>0</th>\n",
              "      <td>20010101</td>\n",
              "      <td>sports.wwe</td>\n",
              "      <td>win over cena satisfying but defeating underta...</td>\n",
              "    </tr>\n",
              "    <tr>\n",
              "      <th>1</th>\n",
              "      <td>20010102</td>\n",
              "      <td>unknown</td>\n",
              "      <td>Status quo will not be disturbed at Ayodhya; s...</td>\n",
              "    </tr>\n",
              "    <tr>\n",
              "      <th>2</th>\n",
              "      <td>20010102</td>\n",
              "      <td>unknown</td>\n",
              "      <td>Fissures in Hurriyat over Pak visit</td>\n",
              "    </tr>\n",
              "    <tr>\n",
              "      <th>3</th>\n",
              "      <td>20010102</td>\n",
              "      <td>unknown</td>\n",
              "      <td>America's unwanted heading for India?</td>\n",
              "    </tr>\n",
              "    <tr>\n",
              "      <th>4</th>\n",
              "      <td>20010102</td>\n",
              "      <td>unknown</td>\n",
              "      <td>For bigwigs; it is destination Goa</td>\n",
              "    </tr>\n",
              "  </tbody>\n",
              "</table>\n",
              "</div>"
            ],
            "text/plain": [
              "   publish_date  ...                                      headline_text\n",
              "0      20010101  ...  win over cena satisfying but defeating underta...\n",
              "1      20010102  ...  Status quo will not be disturbed at Ayodhya; s...\n",
              "2      20010102  ...                Fissures in Hurriyat over Pak visit\n",
              "3      20010102  ...              America's unwanted heading for India?\n",
              "4      20010102  ...                 For bigwigs; it is destination Goa\n",
              "\n",
              "[5 rows x 3 columns]"
            ]
          },
          "metadata": {
            "tags": []
          },
          "execution_count": 50
        }
      ]
    },
    {
      "cell_type": "code",
      "metadata": {
        "id": "DkXWcmfY8_nw"
      },
      "source": [
        "new_dataset = dataset.copy()"
      ],
      "execution_count": 51,
      "outputs": []
    },
    {
      "cell_type": "code",
      "metadata": {
        "id": "6Yam0hH29DY7"
      },
      "source": [
        "new_dataset['category'] = new_dataset['headline_category'].str.split('.').map(lambda x: x[0])"
      ],
      "execution_count": 52,
      "outputs": []
    },
    {
      "cell_type": "code",
      "metadata": {
        "id": "tPEzi8wc9SNP",
        "colab": {
          "base_uri": "https://localhost:8080/",
          "height": 195
        },
        "outputId": "4cd61026-c3b6-4d79-de6d-28c816290a2e"
      },
      "source": [
        "new_dataset.head()"
      ],
      "execution_count": 53,
      "outputs": [
        {
          "output_type": "execute_result",
          "data": {
            "text/html": [
              "<div>\n",
              "<style scoped>\n",
              "    .dataframe tbody tr th:only-of-type {\n",
              "        vertical-align: middle;\n",
              "    }\n",
              "\n",
              "    .dataframe tbody tr th {\n",
              "        vertical-align: top;\n",
              "    }\n",
              "\n",
              "    .dataframe thead th {\n",
              "        text-align: right;\n",
              "    }\n",
              "</style>\n",
              "<table border=\"1\" class=\"dataframe\">\n",
              "  <thead>\n",
              "    <tr style=\"text-align: right;\">\n",
              "      <th></th>\n",
              "      <th>publish_date</th>\n",
              "      <th>headline_category</th>\n",
              "      <th>headline_text</th>\n",
              "      <th>category</th>\n",
              "    </tr>\n",
              "  </thead>\n",
              "  <tbody>\n",
              "    <tr>\n",
              "      <th>0</th>\n",
              "      <td>20010101</td>\n",
              "      <td>sports.wwe</td>\n",
              "      <td>win over cena satisfying but defeating underta...</td>\n",
              "      <td>sports</td>\n",
              "    </tr>\n",
              "    <tr>\n",
              "      <th>1</th>\n",
              "      <td>20010102</td>\n",
              "      <td>unknown</td>\n",
              "      <td>Status quo will not be disturbed at Ayodhya; s...</td>\n",
              "      <td>unknown</td>\n",
              "    </tr>\n",
              "    <tr>\n",
              "      <th>2</th>\n",
              "      <td>20010102</td>\n",
              "      <td>unknown</td>\n",
              "      <td>Fissures in Hurriyat over Pak visit</td>\n",
              "      <td>unknown</td>\n",
              "    </tr>\n",
              "    <tr>\n",
              "      <th>3</th>\n",
              "      <td>20010102</td>\n",
              "      <td>unknown</td>\n",
              "      <td>America's unwanted heading for India?</td>\n",
              "      <td>unknown</td>\n",
              "    </tr>\n",
              "    <tr>\n",
              "      <th>4</th>\n",
              "      <td>20010102</td>\n",
              "      <td>unknown</td>\n",
              "      <td>For bigwigs; it is destination Goa</td>\n",
              "      <td>unknown</td>\n",
              "    </tr>\n",
              "  </tbody>\n",
              "</table>\n",
              "</div>"
            ],
            "text/plain": [
              "   publish_date  ... category\n",
              "0      20010101  ...   sports\n",
              "1      20010102  ...  unknown\n",
              "2      20010102  ...  unknown\n",
              "3      20010102  ...  unknown\n",
              "4      20010102  ...  unknown\n",
              "\n",
              "[5 rows x 4 columns]"
            ]
          },
          "metadata": {
            "tags": []
          },
          "execution_count": 53
        }
      ]
    },
    {
      "cell_type": "markdown",
      "metadata": {
        "id": "3lJK8Bt_-3bg"
      },
      "source": [
        "**3.1 Finding the top most category**"
      ]
    },
    {
      "cell_type": "code",
      "metadata": {
        "id": "vJiWIbJ39WI3"
      },
      "source": [
        "new_dataset_top_categoris = new_dataset.groupby(['category']).agg({'headline_text':'count'}).sort_values(by = 'headline_text',ascending =False)"
      ],
      "execution_count": 54,
      "outputs": []
    },
    {
      "cell_type": "code",
      "metadata": {
        "id": "qYWoW3lP9jv7",
        "colab": {
          "base_uri": "https://localhost:8080/",
          "height": 373
        },
        "outputId": "51a1d5d1-96ae-4c0b-ea21-3367af0317c9"
      },
      "source": [
        "new_dataset_top_categoris_top = new_dataset_top_categoris.drop(['unknown','tv','top-stories','city','citizen','edit-page','top-headlines','world']).head(10)\n",
        "new_dataset_top_categoris_top"
      ],
      "execution_count": 55,
      "outputs": [
        {
          "output_type": "execute_result",
          "data": {
            "text/html": [
              "<div>\n",
              "<style scoped>\n",
              "    .dataframe tbody tr th:only-of-type {\n",
              "        vertical-align: middle;\n",
              "    }\n",
              "\n",
              "    .dataframe tbody tr th {\n",
              "        vertical-align: top;\n",
              "    }\n",
              "\n",
              "    .dataframe thead th {\n",
              "        text-align: right;\n",
              "    }\n",
              "</style>\n",
              "<table border=\"1\" class=\"dataframe\">\n",
              "  <thead>\n",
              "    <tr style=\"text-align: right;\">\n",
              "      <th></th>\n",
              "      <th>headline_text</th>\n",
              "    </tr>\n",
              "    <tr>\n",
              "      <th>category</th>\n",
              "      <th></th>\n",
              "    </tr>\n",
              "  </thead>\n",
              "  <tbody>\n",
              "    <tr>\n",
              "      <th>india</th>\n",
              "      <td>285619</td>\n",
              "    </tr>\n",
              "    <tr>\n",
              "      <th>entertainment</th>\n",
              "      <td>224877</td>\n",
              "    </tr>\n",
              "    <tr>\n",
              "      <th>business</th>\n",
              "      <td>153876</td>\n",
              "    </tr>\n",
              "    <tr>\n",
              "      <th>sports</th>\n",
              "      <td>129494</td>\n",
              "    </tr>\n",
              "    <tr>\n",
              "      <th>home</th>\n",
              "      <td>77208</td>\n",
              "    </tr>\n",
              "    <tr>\n",
              "      <th>life-style</th>\n",
              "      <td>43370</td>\n",
              "    </tr>\n",
              "    <tr>\n",
              "      <th>tech</th>\n",
              "      <td>37220</td>\n",
              "    </tr>\n",
              "    <tr>\n",
              "      <th>news</th>\n",
              "      <td>13987</td>\n",
              "    </tr>\n",
              "    <tr>\n",
              "      <th>elections</th>\n",
              "      <td>9003</td>\n",
              "    </tr>\n",
              "    <tr>\n",
              "      <th>delhi-times</th>\n",
              "      <td>7356</td>\n",
              "    </tr>\n",
              "  </tbody>\n",
              "</table>\n",
              "</div>"
            ],
            "text/plain": [
              "               headline_text\n",
              "category                    \n",
              "india                 285619\n",
              "entertainment         224877\n",
              "business              153876\n",
              "sports                129494\n",
              "home                   77208\n",
              "life-style             43370\n",
              "tech                   37220\n",
              "news                   13987\n",
              "elections               9003\n",
              "delhi-times             7356"
            ]
          },
          "metadata": {
            "tags": []
          },
          "execution_count": 55
        }
      ]
    },
    {
      "cell_type": "code",
      "metadata": {
        "id": "N3KrnDlf-AxH",
        "colab": {
          "base_uri": "https://localhost:8080/",
          "height": 343
        },
        "outputId": "e3bbd09f-8294-45c0-e643-8aa1dc859df8"
      },
      "source": [
        "new_dataset_top_categoris_top.reset_index(inplace = True)\n",
        "new_dataset_top_categoris_top"
      ],
      "execution_count": 56,
      "outputs": [
        {
          "output_type": "execute_result",
          "data": {
            "text/html": [
              "<div>\n",
              "<style scoped>\n",
              "    .dataframe tbody tr th:only-of-type {\n",
              "        vertical-align: middle;\n",
              "    }\n",
              "\n",
              "    .dataframe tbody tr th {\n",
              "        vertical-align: top;\n",
              "    }\n",
              "\n",
              "    .dataframe thead th {\n",
              "        text-align: right;\n",
              "    }\n",
              "</style>\n",
              "<table border=\"1\" class=\"dataframe\">\n",
              "  <thead>\n",
              "    <tr style=\"text-align: right;\">\n",
              "      <th></th>\n",
              "      <th>category</th>\n",
              "      <th>headline_text</th>\n",
              "    </tr>\n",
              "  </thead>\n",
              "  <tbody>\n",
              "    <tr>\n",
              "      <th>0</th>\n",
              "      <td>india</td>\n",
              "      <td>285619</td>\n",
              "    </tr>\n",
              "    <tr>\n",
              "      <th>1</th>\n",
              "      <td>entertainment</td>\n",
              "      <td>224877</td>\n",
              "    </tr>\n",
              "    <tr>\n",
              "      <th>2</th>\n",
              "      <td>business</td>\n",
              "      <td>153876</td>\n",
              "    </tr>\n",
              "    <tr>\n",
              "      <th>3</th>\n",
              "      <td>sports</td>\n",
              "      <td>129494</td>\n",
              "    </tr>\n",
              "    <tr>\n",
              "      <th>4</th>\n",
              "      <td>home</td>\n",
              "      <td>77208</td>\n",
              "    </tr>\n",
              "    <tr>\n",
              "      <th>5</th>\n",
              "      <td>life-style</td>\n",
              "      <td>43370</td>\n",
              "    </tr>\n",
              "    <tr>\n",
              "      <th>6</th>\n",
              "      <td>tech</td>\n",
              "      <td>37220</td>\n",
              "    </tr>\n",
              "    <tr>\n",
              "      <th>7</th>\n",
              "      <td>news</td>\n",
              "      <td>13987</td>\n",
              "    </tr>\n",
              "    <tr>\n",
              "      <th>8</th>\n",
              "      <td>elections</td>\n",
              "      <td>9003</td>\n",
              "    </tr>\n",
              "    <tr>\n",
              "      <th>9</th>\n",
              "      <td>delhi-times</td>\n",
              "      <td>7356</td>\n",
              "    </tr>\n",
              "  </tbody>\n",
              "</table>\n",
              "</div>"
            ],
            "text/plain": [
              "        category  headline_text\n",
              "0          india         285619\n",
              "1  entertainment         224877\n",
              "2       business         153876\n",
              "3         sports         129494\n",
              "4           home          77208\n",
              "5     life-style          43370\n",
              "6           tech          37220\n",
              "7           news          13987\n",
              "8      elections           9003\n",
              "9    delhi-times           7356"
            ]
          },
          "metadata": {
            "tags": []
          },
          "execution_count": 56
        }
      ]
    },
    {
      "cell_type": "markdown",
      "metadata": {
        "id": "op_1Qiy8-Tdy"
      },
      "source": [
        "**Observation**: We can find that **India, Entertainment and business** are the most categories."
      ]
    },
    {
      "cell_type": "markdown",
      "metadata": {
        "id": "C3rO0JYP-0B3"
      },
      "source": [
        "**3.2 Visualizing**"
      ]
    },
    {
      "cell_type": "code",
      "metadata": {
        "id": "tsvJgGKd-Npv",
        "colab": {
          "base_uri": "https://localhost:8080/",
          "height": 744
        },
        "outputId": "7b734258-36bf-460d-8536-b9c9cdc2a1cb"
      },
      "source": [
        "plt.figure(figsize=(20,12))\n",
        "plt.bar(new_dataset_top_categoris_top.category, height=new_dataset_top_categoris_top.headline_text)\n",
        "plt.xlabel('Category',fontsize = 20)\n",
        "plt.ylabel('Number of news headlines',fontsize = 20)\n",
        "plt.title('Top 10 Categories',fontsize = 20)\n",
        "plt.show()"
      ],
      "execution_count": 57,
      "outputs": [
        {
          "output_type": "display_data",
          "data": {
            "image/png": "[encoded data removed]",
            "text/plain": [
              "<Figure size 1440x864 with 1 Axes>"
            ]
          },
          "metadata": {
            "tags": [],
            "needs_background": "light"
          }
        }
      ]
    },
    {
      "cell_type": "markdown",
      "metadata": {
        "id": "ZYwmmcjRALti"
      },
      "source": [
        "### **4. Sentimental Analysis**"
      ]
    },
    {
      "cell_type": "markdown",
      "metadata": {
        "id": "bqOM3bRCATDe"
      },
      "source": [
        "**4.1 Sentimental Analysis using TextBlob**"
      ]
    },
    {
      "cell_type": "markdown",
      "metadata": {
        "id": "OxUGgY_uAulQ"
      },
      "source": [
        "**4.2 Categoring the Variables**"
      ]
    },
    {
      "cell_type": "code",
      "metadata": {
        "id": "R4B6kSx3Aoxs"
      },
      "source": [
        "summary = dataset.groupby(['Result']).agg({'headline_text' : 'count'})"
      ],
      "execution_count": null,
      "outputs": []
    },
    {
      "cell_type": "markdown",
      "metadata": {
        "id": "3hGpj9uXA_kE"
      },
      "source": [
        "**4.3 Visualizing the summary**"
      ]
    },
    {
      "cell_type": "code",
      "metadata": {
        "id": "sqK3vc9kA7tC"
      },
      "source": [
        "plt.figure(figsize = (8,8))\n",
        "summary['headline_text'].plot.pie(autopct = '%1.1f%%')\n",
        "plt.show()"
      ],
      "execution_count": null,
      "outputs": []
    },
    {
      "cell_type": "code",
      "metadata": {
        "id": "tHLB_NazBPeW"
      },
      "source": [
        "negative = (summary.loc['negative'] / len(dataset))*100\n",
        "neutral = (summary.loc['neutral'] / len(dataset))*100\n",
        "positive = (summary.loc['positive'] / len(dataset))*100"
      ],
      "execution_count": null,
      "outputs": []
    },
    {
      "cell_type": "code",
      "metadata": {
        "id": "m4ewKjELXQxw"
      },
      "source": [
        "print(' Positive Headlines: ' , positive )\n",
        "print('\\n\\n Negative Headlines: ' ,negative )\n",
        "print('\\n\\n Neutral Headlines: ' , str(neutral))"
      ],
      "execution_count": null,
      "outputs": []
    },
    {
      "cell_type": "markdown",
      "metadata": {
        "id": "oxAYTtezXlxu"
      },
      "source": [
        "**Conclusion**: We can observe that there are most of **neutral headlines** overall"
      ]
    }
  ]
}